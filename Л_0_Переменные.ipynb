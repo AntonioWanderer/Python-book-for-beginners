{
  "nbformat": 4,
  "nbformat_minor": 0,
  "metadata": {
    "colab": {
      "provenance": [],
      "authorship_tag": "ABX9TyOy41QUPahXX/x8HNFkWEsx",
      "include_colab_link": true
    },
    "kernelspec": {
      "name": "python3",
      "display_name": "Python 3"
    },
    "language_info": {
      "name": "python"
    }
  },
  "cells": [
    {
      "cell_type": "markdown",
      "metadata": {
        "id": "view-in-github",
        "colab_type": "text"
      },
      "source": [
        "<a href=\"https://colab.research.google.com/github/AntonioWanderer/Python-book-for-beginners/blob/%D0%9B%D0%B5%D0%BA%D1%86%D0%B8%D0%B8/%D0%9B_0_%D0%9F%D0%B5%D1%80%D0%B5%D0%BC%D0%B5%D0%BD%D0%BD%D1%8B%D0%B5.ipynb\" target=\"_parent\"><img src=\"https://colab.research.google.com/assets/colab-badge.svg\" alt=\"Open In Colab\"/></a>"
      ]
    },
    {
      "cell_type": "markdown",
      "source": [
        "# Переменные, вывод на экран, арифметические операции\n",
        "\n"
      ],
      "metadata": {
        "id": "qy-jvGQIvWP6"
      }
    },
    {
      "cell_type": "markdown",
      "source": [
        "Компьютер может работать с числами, выполнять какие-то команды. Всё это можно запрограммировать. Давайте напишем первую программу на Python."
      ],
      "metadata": {
        "id": "qccxxmhNwIHC"
      }
    },
    {
      "cell_type": "code",
      "execution_count": 1,
      "metadata": {
        "colab": {
          "base_uri": "https://localhost:8080/"
        },
        "id": "oV5AHcR1vUGO",
        "outputId": "89b4c3f8-e67b-4af7-d69f-a63507097336"
      },
      "outputs": [
        {
          "output_type": "stream",
          "name": "stdout",
          "text": [
            "5\n"
          ]
        }
      ],
      "source": [
        "a = 5\n",
        "print(a)"
      ]
    },
    {
      "cell_type": "markdown",
      "source": [
        "\n",
        "\n",
        "*   **a** это **переменная** - так мы назвали ячейку памяти, где будет храниться число **5**.\n",
        "*   Команда **print(a)** выводит на экран то что хранится в переменной **a**.\n",
        "\n",
        "Что ещё можно вывести на экран?\n",
        "\n",
        "\n",
        "\n",
        "\n"
      ],
      "metadata": {
        "id": "J4bGO17pwqhq"
      }
    },
    {
      "cell_type": "code",
      "source": [
        "print(13)\n",
        "print(\"Я могу ещё и текст выводить\")\n",
        "b = 5 + 9\n",
        "print(b)"
      ],
      "metadata": {
        "colab": {
          "base_uri": "https://localhost:8080/"
        },
        "id": "WOHLofKexzAC",
        "outputId": "434b8ffd-c056-4294-fe16-eaa63662ed68"
      },
      "execution_count": 2,
      "outputs": [
        {
          "output_type": "stream",
          "name": "stdout",
          "text": [
            "13\n",
            "Я могу ещё и текст выводить\n",
            "14\n"
          ]
        }
      ]
    },
    {
      "cell_type": "markdown",
      "source": [
        "Сначала мы вывели число **13**, потом текст. Потом посчитали сумму **5** и **9**, и результат записали в переменную **b**. Потом вывели значение **b**.\n",
        "\n",
        "\n",
        "\n",
        "*   **Сначала пишем название переменной, где будет сохраняться результат потом знак равно, и потом то, что нужно посчитать**\n",
        "\n"
      ],
      "metadata": {
        "id": "HLUqnQiZzvnX"
      }
    },
    {
      "cell_type": "code",
      "source": [
        "a = 123\n",
        "b = 67\n",
        "c = a + b\n",
        "print(c)\n"
      ],
      "metadata": {
        "id": "JgNEVJtg0Pdd"
      },
      "execution_count": null,
      "outputs": []
    },
    {
      "cell_type": "markdown",
      "source": [
        "Мы записали в **a** и **b** числовые значения. Теперь мы знаем, чему они равны - а значит можем сложить и записать результат в переменную **c**, и вывести, что получилось."
      ],
      "metadata": {
        "id": "esnWinvK1Wfq"
      }
    },
    {
      "cell_type": "markdown",
      "source": [
        "**!!! Как делать не надо:**\n",
        "\n",
        "\n",
        "```\n",
        "a = 123\n",
        "b = 67\n",
        "a + b = с\n",
        "print(c)\n",
        "```\n",
        "\n",
        "Компьютер вычисляет то что в равенстве справа и записывает в левую часть. Не наоборот! Это не математическое уравнение! Так что в 3 строке возникнет ошибка.\n"
      ],
      "metadata": {
        "id": "zcSPrrDe2a6J"
      }
    },
    {
      "cell_type": "code",
      "source": [
        "a = 7\n",
        "b = 3\n",
        "print(a + b)\n",
        "print(a - b)\n",
        "print(a * b)\n",
        "print(a / b)"
      ],
      "metadata": {
        "colab": {
          "base_uri": "https://localhost:8080/"
        },
        "id": "k13aW6qp2y9a",
        "outputId": "2f80a799-280d-43cb-976f-54bc87faef6e"
      },
      "execution_count": 4,
      "outputs": [
        {
          "output_type": "stream",
          "name": "stdout",
          "text": [
            "10\n",
            "4\n",
            "21\n",
            "2.3333333333333335\n"
          ]
        }
      ]
    },
    {
      "cell_type": "markdown",
      "source": [
        "Вывели \n",
        "\n",
        "**a + b**  сумму\n",
        "\n",
        "**a - b** разность\n",
        "\n",
        "**a * b** произведение\n",
        "\n",
        "**a / b** частное"
      ],
      "metadata": {
        "id": "u70psEh_4OEw"
      }
    },
    {
      "cell_type": "markdown",
      "source": [
        "Конец урока. Пожалуйста, прорешайте блокнот задач:\n",
        "\n",
        "И исправьте ошибки:\n",
        "___\n",
        "\n",
        "Все блокноты: https://github.com/AntonioWanderer/Python-book-for-beginners"
      ],
      "metadata": {
        "id": "cOQWTDNU5JiC"
      }
    }
  ]
}