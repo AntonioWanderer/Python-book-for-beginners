{
  "nbformat": 4,
  "nbformat_minor": 0,
  "metadata": {
    "colab": {
      "provenance": [],
      "authorship_tag": "ABX9TyO0ZaDHrwdkD1aArle9OxJc",
      "include_colab_link": true
    },
    "kernelspec": {
      "name": "python3",
      "display_name": "Python 3"
    },
    "language_info": {
      "name": "python"
    }
  },
  "cells": [
    {
      "cell_type": "markdown",
      "metadata": {
        "id": "view-in-github",
        "colab_type": "text"
      },
      "source": [
        "<a href=\"https://colab.research.google.com/github/AntonioWanderer/Python-book-for-beginners/blob/%D0%98%D1%81%D0%BF%D1%80%D0%B0%D0%B2%D1%8C-%D0%BE%D1%88%D0%B8%D0%B1%D0%BA%D0%B8/0_%D0%9F%D0%B5%D1%80%D0%B5%D0%BC%D0%B5%D0%BD%D0%BD%D1%8B%D0%B5_%D0%BE%D1%88%D0%B8%D0%B1%D0%BA%D0%B8.ipynb\" target=\"_parent\"><img src=\"https://colab.research.google.com/assets/colab-badge.svg\" alt=\"Open In Colab\"/></a>"
      ]
    },
    {
      "cell_type": "markdown",
      "source": [
        "В каждом блоке кода допущены ошибки. Требуется исправить их. Можно сначала запустить код и посмотреть, что написано в сообщениях об ошибках."
      ],
      "metadata": {
        "id": "LvH-eUdWFKkB"
      }
    },
    {
      "cell_type": "markdown",
      "source": [
        "1. Требуется найти сумму **a** и **b**"
      ],
      "metadata": {
        "id": "EXOFzv_YFwwA"
      }
    },
    {
      "cell_type": "code",
      "execution_count": 1,
      "metadata": {
        "colab": {
          "base_uri": "https://localhost:8080/",
          "height": 132
        },
        "id": "4vp5YvbcE2Ng",
        "outputId": "bb748c60-2c4f-4a68-e3c3-d500c71aff64"
      },
      "outputs": [
        {
          "output_type": "error",
          "ename": "SyntaxError",
          "evalue": "ignored",
          "traceback": [
            "\u001b[0;36m  File \u001b[0;32m\"<ipython-input-1-3a4e05e155bf>\"\u001b[0;36m, line \u001b[0;32m3\u001b[0m\n\u001b[0;31m    a + b = c\u001b[0m\n\u001b[0m    ^\u001b[0m\n\u001b[0;31mSyntaxError\u001b[0m\u001b[0;31m:\u001b[0m cannot assign to operator\n"
          ]
        }
      ],
      "source": [
        "a = 75\n",
        "b = 90\n",
        "a + b = c\n",
        "print(c)"
      ]
    },
    {
      "cell_type": "markdown",
      "source": [
        "___\n",
        "Все блокноты: https://github.com/AntonioWanderer/Python-book-for-beginners"
      ],
      "metadata": {
        "id": "JDRv4LmfGXAg"
      }
    }
  ]
}