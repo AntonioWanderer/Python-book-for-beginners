{
  "nbformat": 4,
  "nbformat_minor": 0,
  "metadata": {
    "colab": {
      "provenance": [],
      "authorship_tag": "ABX9TyMJAidomVLuvQe6PYMjfni9",
      "include_colab_link": true
    },
    "kernelspec": {
      "name": "python3",
      "display_name": "Python 3"
    },
    "language_info": {
      "name": "python"
    }
  },
  "cells": [
    {
      "cell_type": "markdown",
      "metadata": {
        "id": "view-in-github",
        "colab_type": "text"
      },
      "source": [
        "<a href=\"https://colab.research.google.com/github/AntonioWanderer/Python-book-for-beginners/blob/%D0%97%D0%B0%D0%B4%D0%B0%D1%87%D0%B8/0_%D0%9F%D0%B5%D1%80%D0%B5%D0%BC%D0%B5%D0%BD%D0%BD%D1%8B%D0%B5_%D0%B7%D0%B0%D0%B4%D0%B0%D1%87%D0%B8.ipynb\" target=\"_parent\"><img src=\"https://colab.research.google.com/assets/colab-badge.svg\" alt=\"Open In Colab\"/></a>"
      ]
    },
    {
      "cell_type": "markdown",
      "source": [
        "1. Выведите на экран своё имя."
      ],
      "metadata": {
        "id": "cYRrqi3J9vu8"
      }
    },
    {
      "cell_type": "code",
      "execution_count": null,
      "metadata": {
        "id": "yWEAVGs69ZTy"
      },
      "outputs": [],
      "source": []
    },
    {
      "cell_type": "markdown",
      "source": [
        "2. Сложите числа **14** и **29**, результат выведите на экран."
      ],
      "metadata": {
        "id": "VXMWSM-N-AP4"
      }
    },
    {
      "cell_type": "code",
      "source": [],
      "metadata": {
        "id": "vaNr5sEG9_W0"
      },
      "execution_count": null,
      "outputs": []
    },
    {
      "cell_type": "markdown",
      "source": [
        "3. Поезд Барнаул-Москва едет **d = 2** суток и **h = 11** часов. В своей программе вычислите сколько часов едет поезд. Ответ выведите на экран."
      ],
      "metadata": {
        "id": "8lceP_MZ-gjT"
      }
    },
    {
      "cell_type": "code",
      "source": [],
      "metadata": {
        "id": "NbzsyLe0AxLi"
      },
      "execution_count": null,
      "outputs": []
    },
    {
      "cell_type": "markdown",
      "source": [
        "___\n",
        "Все блокноты: https://github.com/AntonioWanderer/Python-book-for-beginners"
      ],
      "metadata": {
        "id": "Axy0PbMgA47y"
      }
    }
  ]
}