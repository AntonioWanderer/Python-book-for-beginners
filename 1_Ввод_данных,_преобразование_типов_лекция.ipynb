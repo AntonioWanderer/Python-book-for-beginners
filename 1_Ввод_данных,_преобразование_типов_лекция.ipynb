{
  "nbformat": 4,
  "nbformat_minor": 0,
  "metadata": {
    "colab": {
      "provenance": [],
      "authorship_tag": "ABX9TyNV5C7AqlhO90zW4EgHD5Nd",
      "include_colab_link": true
    },
    "kernelspec": {
      "name": "python3",
      "display_name": "Python 3"
    },
    "language_info": {
      "name": "python"
    }
  },
  "cells": [
    {
      "cell_type": "markdown",
      "metadata": {
        "id": "view-in-github",
        "colab_type": "text"
      },
      "source": [
        "<a href=\"https://colab.research.google.com/github/AntonioWanderer/Python-book-for-beginners/blob/main/1_%D0%92%D0%B2%D0%BE%D0%B4_%D0%B4%D0%B0%D0%BD%D0%BD%D1%8B%D1%85%2C_%D0%BF%D1%80%D0%B5%D0%BE%D0%B1%D1%80%D0%B0%D0%B7%D0%BE%D0%B2%D0%B0%D0%BD%D0%B8%D0%B5_%D1%82%D0%B8%D0%BF%D0%BE%D0%B2_%D0%BB%D0%B5%D0%BA%D1%86%D0%B8%D1%8F.ipynb\" target=\"_parent\"><img src=\"https://colab.research.google.com/assets/colab-badge.svg\" alt=\"Open In Colab\"/></a>"
      ]
    },
    {
      "cell_type": "markdown",
      "source": [
        "# Ввод данных с клавиатуры, преобразование типов данных"
      ],
      "metadata": {
        "id": "rlU_hxLSHFpc"
      }
    },
    {
      "cell_type": "markdown",
      "source": [
        "Хотим, чтобы пользователь ввёл нам число и выведем значение в 3 раза больше"
      ],
      "metadata": {
        "id": "YkZeQuG6Hadf"
      }
    },
    {
      "cell_type": "code",
      "execution_count": 1,
      "metadata": {
        "colab": {
          "base_uri": "https://localhost:8080/"
        },
        "id": "-T9SrLfJG41w",
        "outputId": "fbdcc3c9-f72d-4fad-e7a6-82a025f3ff6c"
      },
      "outputs": [
        {
          "output_type": "stream",
          "name": "stdout",
          "text": [
            "7\n",
            "21\n"
          ]
        }
      ],
      "source": [
        "a = input()\n",
        "n = int(a)\n",
        "print(n * 3)"
      ]
    },
    {
      "cell_type": "markdown",
      "source": [
        "\n",
        "\n",
        "*   Мы прочитали то что ввёл пользователь при помощи функции **input()**\n",
        "*   Да, пустые скобочки писать надо!\n",
        "*   **a** это строка из цифр так что нам нужно превратить её в тип данных **int - целые числа** чтоб компьютер понимал, что это именно число.\n",
        "*   Выводим то что требуется\n",
        "\n"
      ],
      "metadata": {
        "id": "OX00ahRqIMjI"
      }
    },
    {
      "cell_type": "code",
      "source": [
        "a = input()\n",
        "b = input()\n",
        "n1 = int(a)\n",
        "n2 = int(b)\n",
        "print(n1 + n2)"
      ],
      "metadata": {
        "colab": {
          "base_uri": "https://localhost:8080/"
        },
        "id": "d9hCOBvoJmI3",
        "outputId": "6f9ef040-8663-4b2a-988d-726908e1e7ac"
      },
      "execution_count": 2,
      "outputs": [
        {
          "output_type": "stream",
          "name": "stdout",
          "text": [
            "23\n",
            "76\n",
            "99\n"
          ]
        }
      ]
    },
    {
      "cell_type": "markdown",
      "source": [
        "Ввели два значения (первое, нажать Enter, второе, опять нажать Enter), преобразовали их в тип int, сложили"
      ],
      "metadata": {
        "id": "v7nCnwiRJ8fV"
      }
    },
    {
      "cell_type": "code",
      "source": [
        "a = int(input())\n",
        "b = int(input())\n",
        "print(a+b)"
      ],
      "metadata": {
        "colab": {
          "base_uri": "https://localhost:8080/"
        },
        "id": "7p76yOIyKVpa",
        "outputId": "5b3e36dc-9daa-4c25-afee-ab67c458b8e1"
      },
      "execution_count": 3,
      "outputs": [
        {
          "output_type": "stream",
          "name": "stdout",
          "text": [
            "35\n",
            "87\n",
            "122\n"
          ]
        }
      ]
    },
    {
      "cell_type": "markdown",
      "source": [
        "То же самое, но теперь мы сразу преобразуем в числовой тип то что получили на вводе."
      ],
      "metadata": {
        "id": "3mkZZoVyKgD3"
      }
    },
    {
      "cell_type": "markdown",
      "source": [
        "Давайте теперь общаться с пользователем"
      ],
      "metadata": {
        "id": "0GJe8hevK7GG"
      }
    },
    {
      "cell_type": "code",
      "source": [
        "print(\"Введите пожалуйста два числа\")\n",
        "a = int(input())\n",
        "b = int(input())\n",
        "print(\"Сумма чисел = \",a+b)"
      ],
      "metadata": {
        "colab": {
          "base_uri": "https://localhost:8080/"
        },
        "id": "LfqKxegkK2yA",
        "outputId": "a3d3252f-3537-4f3f-a749-3ea8ea673f29"
      },
      "execution_count": 4,
      "outputs": [
        {
          "output_type": "stream",
          "name": "stdout",
          "text": [
            "Введите пожалуйста два числа\n",
            "56\n",
            "98\n",
            "Сумма чисел =  154\n"
          ]
        }
      ]
    },
    {
      "cell_type": "markdown",
      "source": [
        "В функцию print можно писать сколько угодно строк текста, переменных, всё через запятую."
      ],
      "metadata": {
        "id": "m9tIx0_uLtOJ"
      }
    },
    {
      "cell_type": "code",
      "source": [
        "print(\"Введите пожалуйста два числа\")\n",
        "a = int(input())\n",
        "b = int(input())\n",
        "print(\"Сумма чисел = \",a+b, \"\\nРазность чисел = \", a-b)"
      ],
      "metadata": {
        "colab": {
          "base_uri": "https://localhost:8080/"
        },
        "id": "MWqGYYuZMOpR",
        "outputId": "7b8c649a-1fbb-403d-d078-8ff6a790b919"
      },
      "execution_count": 5,
      "outputs": [
        {
          "output_type": "stream",
          "name": "stdout",
          "text": [
            "Введите пожалуйста два числа\n",
            "864\n",
            "31\n",
            "Сумма чисел =  895 \n",
            "Разность чисел =  833\n"
          ]
        }
      ]
    },
    {
      "cell_type": "markdown",
      "source": [
        "Чтобы перейти на новую строку нужно вывести специальный символ \"\\n\" это как нажатие клавиши Enter"
      ],
      "metadata": {
        "id": "3Ksg_3LlMl-J"
      }
    },
    {
      "cell_type": "markdown",
      "source": [
        "Давайте теперь сложим две строки и посмотрим что получится"
      ],
      "metadata": {
        "id": "BME7TwS0NJTd"
      }
    },
    {
      "cell_type": "code",
      "source": [
        "s1 = \"abcd\"\n",
        "s2 = \"efgh\"\n",
        "s = s1 + s2\n",
        "print(s)"
      ],
      "metadata": {
        "colab": {
          "base_uri": "https://localhost:8080/"
        },
        "id": "uRFDHWC3NRoM",
        "outputId": "b03eb92d-e30b-4917-98ec-9ea7f831c639"
      },
      "execution_count": 6,
      "outputs": [
        {
          "output_type": "stream",
          "name": "stdout",
          "text": [
            "abcdefgh\n"
          ]
        }
      ]
    },
    {
      "cell_type": "markdown",
      "source": [
        "Строки склеились. То же самое произойдёт с числами если не преобразовать их в тип данных int. Сделам это в блокноте \"исправь ошибки\"."
      ],
      "metadata": {
        "id": "3sl-fdF6Nq20"
      }
    },
    {
      "cell_type": "markdown",
      "source": [
        "Задачи по уроку:\n",
        "\n",
        "Исправление ошибок в коде:\n",
        "\n",
        "___\n",
        "Все блокноты: https://github.com/AntonioWanderer/Python-book-for-beginners"
      ],
      "metadata": {
        "id": "Ug8sZq0cOlt2"
      }
    }
  ]
}